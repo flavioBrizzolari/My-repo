{
 "cells": [
  {
   "cell_type": "markdown",
   "id": "3e9fe260",
   "metadata": {},
   "source": [
    "# INTRODUCTION\n",
    "\n",
    "## Exercise hello world!"
   ]
  },
  {
   "cell_type": "code",
   "execution_count": null,
   "id": "497711ab",
   "metadata": {},
   "outputs": [],
   "source": [
    "if __name__ == '__main__':\n",
    "    print(\"Hello, World!\")"
   ]
  },
  {
   "cell_type": "markdown",
   "id": "af32e6bb",
   "metadata": {},
   "source": [
    "## Python if else"
   ]
  },
  {
   "cell_type": "code",
   "execution_count": null,
   "id": "321445ff",
   "metadata": {},
   "outputs": [],
   "source": [
    "import math\n",
    "import os\n",
    "import random\n",
    "import re\n",
    "import sys\n",
    "\n",
    "if __name__ == '__main__':\n",
    "    n = int(raw_input().strip())\n",
    "if n%2 != 0:\n",
    "    print \"weird\"\n",
    "elif n%2 == 0 and 2<=n<=5:\n",
    "    print \"Not Weird\"\n",
    "elif n%2 == 0 and 6<=n<=20:\n",
    "    print \"Weird\"\n",
    "elif n%2 == 0 and n>20:\n",
    "    print \"Not Weird\""
   ]
  },
  {
   "cell_type": "markdown",
   "id": "c4e0f0b4",
   "metadata": {},
   "source": [
    "## arithmetic operators"
   ]
  },
  {
   "cell_type": "code",
   "execution_count": null,
   "id": "eb892e8a",
   "metadata": {},
   "outputs": [],
   "source": [
    "if __name__ == '__main__':\n",
    "    a = int(raw_input())\n",
    "    b = int(raw_input())\n",
    "    print(a+b)\n",
    "    print(a-b)\n",
    "    print(a*b)"
   ]
  },
  {
   "cell_type": "markdown",
   "id": "12337c55",
   "metadata": {},
   "source": [
    "## python ddivision"
   ]
  },
  {
   "cell_type": "code",
   "execution_count": null,
   "id": "6f633402",
   "metadata": {},
   "outputs": [],
   "source": [
    "from __future__ import division\n",
    "\n",
    "if __name__ == '__main__':\n",
    "    a = int(raw_input())\n",
    "    b = int(raw_input())\n",
    "    print(a//b)\n",
    "    print(a/b)"
   ]
  },
  {
   "cell_type": "markdown",
   "id": "6899ed82",
   "metadata": {},
   "source": [
    "## loops"
   ]
  },
  {
   "cell_type": "code",
   "execution_count": null,
   "id": "330e1710",
   "metadata": {},
   "outputs": [],
   "source": [
    "if __name__ == '__main__':\n",
    "    n = int(raw_input())\n",
    "    for i in range(0,n):\n",
    "        print(i**2)"
   ]
  },
  {
   "cell_type": "markdown",
   "id": "a2731748",
   "metadata": {},
   "source": [
    "## write a function"
   ]
  },
  {
   "cell_type": "code",
   "execution_count": null,
   "id": "b44bcc67",
   "metadata": {},
   "outputs": [],
   "source": [
    "def is_leap(year):\n",
    "    leap = False\n",
    "    \n",
    "    if year%4==0 and year%100!=0:\n",
    "        leap = True\n",
    "    if year%100 == 0 and year%400 == 0:\n",
    "        leap = True\n",
    "    \n",
    "    return leap"
   ]
  },
  {
   "cell_type": "markdown",
   "id": "fae3dd91",
   "metadata": {},
   "source": [
    "## print function"
   ]
  },
  {
   "cell_type": "code",
   "execution_count": null,
   "id": "bfd77c51",
   "metadata": {},
   "outputs": [],
   "source": [
    "from __future__ import print_function\n",
    "\n",
    "if __name__ == '__main__':\n",
    "    n = int(raw_input())\n",
    "    \n",
    "    for i in range(1,n+1):\n",
    "        print(i,end='')"
   ]
  },
  {
   "cell_type": "markdown",
   "id": "a5ba160b",
   "metadata": {},
   "source": [
    "# BASIC DATA TYPES\n",
    "\n",
    "## list comprehension (HAD HELP!)"
   ]
  },
  {
   "cell_type": "code",
   "execution_count": null,
   "id": "2db7edc8",
   "metadata": {},
   "outputs": [],
   "source": [
    "if __name__ == '__main__':\n",
    "    x = int(raw_input())\n",
    "    y = int(raw_input())\n",
    "    z = int(raw_input())\n",
    "    n = int(raw_input())\n",
    "    print([[i,j,k] for i in range(x+1) for j in range(y+1) for k in range(z+1) if i+j+k != n])"
   ]
  },
  {
   "cell_type": "markdown",
   "id": "711a6d16",
   "metadata": {},
   "source": [
    "## find the runner up score"
   ]
  },
  {
   "cell_type": "code",
   "execution_count": null,
   "id": "fee5c437",
   "metadata": {},
   "outputs": [],
   "source": [
    "if __name__ == '__main__':\n",
    "    n = int(input())\n",
    "    arr = list(map(int, input().split()))\n",
    "    mass = max(arr)\n",
    "    for i in range(len(arr)):\n",
    "        if arr[i] == mass:\n",
    "            arr.remove(arr[i])\n",
    "    print(max(arr))"
   ]
  },
  {
   "cell_type": "markdown",
   "id": "61676df4",
   "metadata": {},
   "source": [
    "## finding the percentage (LOOKED AT SOLUTION)"
   ]
  },
  {
   "cell_type": "code",
   "execution_count": null,
   "id": "944c03b8",
   "metadata": {},
   "outputs": [],
   "source": [
    "if __name__ == '__main__':\n",
    "    n = int(input())\n",
    "    student_marks = {}\n",
    "    for _ in range(n):\n",
    "        name, *line = input().split()\n",
    "        scores = list(map(float, line))\n",
    "        student_marks[name] = scores\n",
    "    query_name = input()\n",
    "\n",
    "    if query_name in student_marks:\n",
    "        x = ((float(student_marks[query_name][0]) + float(student_marks[query_name][1]) + float(student_marks[query_name][2])) / 3)\n",
    "    \n",
    "    print('%.2f' % x)\n"
   ]
  },
  {
   "cell_type": "markdown",
   "id": "79e2f004",
   "metadata": {},
   "source": [
    "## nested lists (looked at possible solutions)"
   ]
  },
  {
   "cell_type": "code",
   "execution_count": null,
   "id": "169a7e16",
   "metadata": {},
   "outputs": [],
   "source": [
    "if __name__ == '__main__':\n",
    "    marks = {}\n",
    "    n = int(input())\n",
    "    for x in range(n):\n",
    "        name = input()\n",
    "        mark= float(input())\n",
    "    \n",
    "        if mark in marks:\n",
    "            marks[mark].append(name)\n",
    "        else:\n",
    "            marks[mark] = [name]\n",
    "        \n",
    "    all_marks = list(set(marks.keys()))\n",
    "    all_marks.sort()\n",
    "    names_ordered = marks[all_marks[1]]\n",
    "    names_ordered.sort()\n",
    "    \n",
    "    for name in names_ordered:\n",
    "        print(name)"
   ]
  },
  {
   "cell_type": "markdown",
   "id": "86151dd5",
   "metadata": {},
   "source": [
    "## sWAP cASE"
   ]
  },
  {
   "cell_type": "code",
   "execution_count": null,
   "id": "50c013e5",
   "metadata": {},
   "outputs": [],
   "source": [
    "def swap_case(s):\n",
    "    return ''.join(list(map(str.swapcase,s)))"
   ]
  },
  {
   "cell_type": "markdown",
   "id": "38269769",
   "metadata": {},
   "source": [
    "## tuples (looked at built in python function to help)"
   ]
  },
  {
   "cell_type": "code",
   "execution_count": null,
   "id": "654041cb",
   "metadata": {},
   "outputs": [],
   "source": [
    "if __name__ == '__main__':\n",
    "    n = int(input())\n",
    "    integer_list = tuple((map(int, input().split())))\n",
    "    print(hash(integer_list))"
   ]
  },
  {
   "cell_type": "markdown",
   "id": "eb435913",
   "metadata": {},
   "source": [
    "# STRINGS"
   ]
  },
  {
   "cell_type": "markdown",
   "id": "7c87c5fe",
   "metadata": {},
   "source": [
    "## string split and join"
   ]
  },
  {
   "cell_type": "code",
   "execution_count": null,
   "id": "5aeb6e4d",
   "metadata": {},
   "outputs": [],
   "source": [
    "def split_and_join(line):\n",
    "    line = line.split()\n",
    "    line = \"-\".join(line)\n",
    "    return line\n",
    "\n",
    "if __name__ == '__main__':\n",
    "    line = input()\n",
    "    result = split_and_join(line)\n",
    "    print(result)"
   ]
  },
  {
   "cell_type": "markdown",
   "id": "2e61c9fe",
   "metadata": {},
   "source": [
    "## what's your name?"
   ]
  },
  {
   "cell_type": "code",
   "execution_count": null,
   "id": "3e7f42c5",
   "metadata": {},
   "outputs": [],
   "source": [
    "def print_full_name(first, last):\n",
    "    first = first_name\n",
    "    last = last_name\n",
    "    line = \"Hello {} {}! You just delved into python.\"\n",
    "    print(line.format(first, last))"
   ]
  },
  {
   "cell_type": "markdown",
   "id": "9f1cc009",
   "metadata": {},
   "source": [
    "## find a string (looked at the solutions)"
   ]
  },
  {
   "cell_type": "code",
   "execution_count": null,
   "id": "a510b503",
   "metadata": {},
   "outputs": [],
   "source": [
    "def count_substring(string, sub_string):\n",
    "    count = 0\n",
    "    for i in range(len(string)-len(sub_string)+1):\n",
    "        if string[i:i+len(sub_string)] == sub_string:\n",
    "            count += 1\n",
    "    return count"
   ]
  },
  {
   "cell_type": "markdown",
   "id": "5aa63ab1",
   "metadata": {},
   "source": [
    "## string validators"
   ]
  },
  {
   "cell_type": "code",
   "execution_count": null,
   "id": "f581022a",
   "metadata": {},
   "outputs": [],
   "source": [
    "if __name__ == '__main__':\n",
    "    s = input()\n",
    "\n",
    "truth = False\n",
    "for i in s:\n",
    "    if i.isalnum():\n",
    "        truth = True\n",
    "        break\n",
    "print(truth)\n",
    "truth = False\n",
    "for i in s:\n",
    "    if i.isalpha():\n",
    "        truth = True\n",
    "        break\n",
    "print(truth)\n",
    "truth = False\n",
    "for i in s:\n",
    "    if i.isdigit():\n",
    "        truth = True\n",
    "        break\n",
    "print(truth)\n",
    "truth = False\n",
    "for i in s:\n",
    "    if i.islower():\n",
    "        truth = True\n",
    "        break\n",
    "print(truth)\n",
    "truth = False\n",
    "for i in s:\n",
    "    if i.isupper():\n",
    "        truth = True\n",
    "        break\n",
    "print(truth)"
   ]
  },
  {
   "cell_type": "markdown",
   "id": "420ea84e",
   "metadata": {},
   "source": [
    "## no idea (couldn't figure the solution out and did not understand the online answer)"
   ]
  },
  {
   "cell_type": "code",
   "execution_count": null,
   "id": "575d35f4",
   "metadata": {},
   "outputs": [],
   "source": [
    "def felicita(happy, A, B):\n",
    "    felice = len(happy.intersection(A))\n",
    "    sad = len(happy.intersection(B))\n",
    "    return felice - sad\n",
    "\n",
    "if __name__ == '__main__':\n",
    "    m,n = list(map(int,input().split()))\n",
    "    happy = set(map(int,input().split()))\n",
    "    A = set(map(int,input().split()))\n",
    "    B = set(map(int,input().split()))\n",
    "    print(felicita(happy, A, B))"
   ]
  },
  {
   "cell_type": "markdown",
   "id": "7d6e1793",
   "metadata": {},
   "source": [
    "## collections.counter()"
   ]
  },
  {
   "cell_type": "code",
   "execution_count": null,
   "id": "3c8bce54",
   "metadata": {},
   "outputs": [],
   "source": [
    "from collections import Counter\n",
    "\n",
    "n_shoes = int(input())\n",
    "misura_scarpe = Counter(map(int,input().split()))\n",
    "n_acquirenti = int(input())\n",
    "\n",
    "contatore = 0\n",
    "\n",
    "for i in range(0,n_acquirenti):\n",
    "    e,g = map(int,input().split())\n",
    "    if misura_scarpe[e] != 0:\n",
    "        contatore = contatore + g\n",
    "        misura_scarpe[e] -=1\n",
    "    else:\n",
    "        del misura_scarpe[e]\n",
    "\n",
    "print(contatore)"
   ]
  },
  {
   "cell_type": "markdown",
   "id": "249e708e",
   "metadata": {},
   "source": [
    "## defaultDict tutorial"
   ]
  },
  {
   "cell_type": "code",
   "execution_count": null,
   "id": "6acd1a87",
   "metadata": {},
   "outputs": [],
   "source": [
    "from collections import defaultdict\n",
    "\n",
    "dizionario = defaultdict(list)\n",
    "\n",
    "n,m = map(int,input().split())\n",
    "\n",
    "for i in range(1,n+1):\n",
    "    dizionario[input()].append(str(i))\n",
    "    \n",
    "for i in range(m):\n",
    "    oggetto = input()\n",
    "    if oggetto in dizionario:\n",
    "        print(' '.join(dizionario[oggetto]))\n",
    "    else:\n",
    "        print(-1)"
   ]
  },
  {
   "cell_type": "markdown",
   "id": "549b9328",
   "metadata": {},
   "source": [
    "## mutations"
   ]
  },
  {
   "cell_type": "code",
   "execution_count": null,
   "id": "b07d753d",
   "metadata": {},
   "outputs": [],
   "source": [
    "def mutate_string(string, position, character):\n",
    "    frase = list(string)\n",
    "    frase[position] = character\n",
    "    frase = ''.join(frase)\n",
    "    return frase"
   ]
  },
  {
   "cell_type": "markdown",
   "id": "c05b4fce",
   "metadata": {},
   "source": [
    "## text wrap (asked for help)"
   ]
  },
  {
   "cell_type": "code",
   "execution_count": null,
   "id": "a2516309",
   "metadata": {},
   "outputs": [],
   "source": [
    "def wrap(string, max_width): \n",
    "    return \"\\n\".join(textwrap.wrap(string, max_width))"
   ]
  },
  {
   "cell_type": "markdown",
   "id": "a95bfa29",
   "metadata": {},
   "source": [
    "## designer door mat (VIEWED SOLUTION)"
   ]
  },
  {
   "cell_type": "code",
   "execution_count": null,
   "id": "66ddc115",
   "metadata": {},
   "outputs": [],
   "source": [
    "N,M = map(int, input().split())\n",
    "prima_parte = [('.|.'*(2*i+1)).center(M,'-') for i in range(N//2)]\n",
    "print('\\n'.join(prima_parte + [\"WELCOME\".center(M,'-')] + prima_parte[::-1]))"
   ]
  },
  {
   "cell_type": "markdown",
   "id": "1dc1a05a",
   "metadata": {},
   "source": [
    "## alphabet rangoli (VIEWED SOLUTION)"
   ]
  },
  {
   "cell_type": "code",
   "execution_count": null,
   "id": "3b45afd6",
   "metadata": {},
   "outputs": [],
   "source": [
    "def print_rangoli(size):\n",
    "    nicestring = 'abcdefghijklmnopqrstuvwxyz'[0:size]\n",
    "    \n",
    "    for i in range(size-1, -size, -1):\n",
    "        x = abs(i)\n",
    "        if x >= 0:    \n",
    "            riga = nicestring[size:x:-1] + nicestring[x:size]\n",
    "            print('--'*x + '-'.join(riga) + '--'*x)"
   ]
  },
  {
   "cell_type": "markdown",
   "id": "e8008dbb",
   "metadata": {},
   "source": [
    "## string formatting (looked at functions and how they worked to help me)"
   ]
  },
  {
   "cell_type": "code",
   "execution_count": null,
   "id": "fa5fa356",
   "metadata": {},
   "outputs": [],
   "source": [
    "def print_formatted(number):\n",
    "    l = len(bin(number)[2:])\n",
    "    for i in range(1,number+1):\n",
    "        dec = i\n",
    "        octa = oct(i)[2:]\n",
    "        esa = hex(i)[2:]\n",
    "        bina = bin(i)[2:].upper()\n",
    "        print(str(dec).rjust(l), octa.rjust(l), esa.rjust(l), bina.rjust(l), sep = ' ')\n",
    "        \n",
    "if __name__ == '__main__':\n",
    "    n = int(input())\n",
    "    print_formatted(n)"
   ]
  },
  {
   "cell_type": "markdown",
   "id": "cba7c574",
   "metadata": {},
   "source": [
    "## THE MINION GAME"
   ]
  },
  {
   "cell_type": "code",
   "execution_count": null,
   "id": "04155393",
   "metadata": {},
   "outputs": [],
   "source": [
    "def minion_game(string):\n",
    "    Stuart = 0;\n",
    "    Kevin = 0;\n",
    "    vow = 'AEIOU'\n",
    "    st_len = len(string)\n",
    "    \n",
    "    for i in range(st_len):\n",
    "        if string[i] in vow:\n",
    "            start = i\n",
    "            end = st_len + 1\n",
    "            while start <= end:\n",
    "                Kevin += 1\n",
    "                start += 1\n",
    "        else:\n",
    "            start = i\n",
    "            end = st_len + 1\n",
    "            while start <= end:\n",
    "                Stuart += 1\n",
    "                start += 1 \n",
    "    \n",
    "    if Stuart > Kevin:\n",
    "        print('Stuart', Stuart)\n",
    "    elif Stuart < Kevin:\n",
    "        print('Kevin', Kevin)\n",
    "    else:\n",
    "        print('Draw')\n",
    "\n",
    "\n",
    "if __name__ == '__main__':"
   ]
  },
  {
   "cell_type": "markdown",
   "id": "660d6cc6",
   "metadata": {},
   "source": [
    "# SETS"
   ]
  },
  {
   "cell_type": "markdown",
   "id": "057dbd9f",
   "metadata": {},
   "source": [
    "## introduction to sets (searched functions to round)"
   ]
  },
  {
   "cell_type": "code",
   "execution_count": null,
   "id": "efe50df6",
   "metadata": {},
   "outputs": [],
   "source": [
    "def average(array):\n",
    "    sets = set(arr)\n",
    "    N = sum(sets)\n",
    "    n = len(sets)\n",
    "    return round((N/n), 3)"
   ]
  },
  {
   "cell_type": "markdown",
   "id": "d8e8d833",
   "metadata": {},
   "source": [
    "# symmetric difference (got help to sort out the function map)"
   ]
  },
  {
   "cell_type": "code",
   "execution_count": null,
   "id": "e8d53a06",
   "metadata": {},
   "outputs": [],
   "source": [
    "def average(set1,set2):\n",
    "    setunito = set1.union(set2)\n",
    "    setint = set1.intersection(set2)\n",
    "    risultato = sorted(setunito.difference(setint))\n",
    "    for i in risultato:\n",
    "        print(i)\n",
    "    \n",
    "\n",
    "if __name__ == '__main__':\n",
    "    n , set1 = int(input()), set(map(int, input().split()))\n",
    "    m , set2 = int(input()), set(map(int, input().split()))\n",
    "    result = average(set1,set2)"
   ]
  },
  {
   "cell_type": "markdown",
   "id": "4bd4b866",
   "metadata": {},
   "source": [
    "# ERRORS & EXCEPTIONS"
   ]
  },
  {
   "cell_type": "markdown",
   "id": "f2f80769",
   "metadata": {},
   "source": [
    "## Exceptions"
   ]
  },
  {
   "cell_type": "code",
   "execution_count": null,
   "id": "82371efb",
   "metadata": {},
   "outputs": [],
   "source": [
    "for i in range(int(input())):\n",
    "    \n",
    "    try:\n",
    "        a,b = map(int,input().split())\n",
    "        print(a//b)\n",
    "    except ZeroDivisionError as e:\n",
    "        print(\"Error Code:\", e)\n",
    "    except ValueError as e:\n",
    "        print(\"Error Code:\", e)"
   ]
  },
  {
   "cell_type": "markdown",
   "id": "46beffd4",
   "metadata": {},
   "source": [
    "#  NUMPY"
   ]
  },
  {
   "cell_type": "markdown",
   "id": "7a90acd3",
   "metadata": {},
   "source": [
    "## Arrays"
   ]
  },
  {
   "cell_type": "code",
   "execution_count": null,
   "id": "c338c333",
   "metadata": {},
   "outputs": [],
   "source": [
    "def arrays(arr):\n",
    "    arr.reverse()\n",
    "    return numpy.array(arr,float)"
   ]
  },
  {
   "cell_type": "markdown",
   "id": "6e11ffcb",
   "metadata": {},
   "source": [
    "## shape & reshape"
   ]
  },
  {
   "cell_type": "code",
   "execution_count": null,
   "id": "6225b9cf",
   "metadata": {},
   "outputs": [],
   "source": [
    "import numpy as np\n",
    "\n",
    "arr = np.array(input().strip().split(' '), int)\n",
    "print(np.reshape(arr,(3,3)))"
   ]
  }
 ],
 "metadata": {
  "kernelspec": {
   "display_name": "Python 3 (ipykernel)",
   "language": "python",
   "name": "python3"
  },
  "language_info": {
   "codemirror_mode": {
    "name": "ipython",
    "version": 3
   },
   "file_extension": ".py",
   "mimetype": "text/x-python",
   "name": "python",
   "nbconvert_exporter": "python",
   "pygments_lexer": "ipython3",
   "version": "3.9.12"
  }
 },
 "nbformat": 4,
 "nbformat_minor": 5
}
